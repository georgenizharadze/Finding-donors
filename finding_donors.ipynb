{
 "metadata": {
  "anaconda-cloud": {},
  "kernelspec": {
   "display_name": "Python 3",
   "language": "python",
   "name": "python3"
  },
  "language_info": {
   "codemirror_mode": {
    "name": "ipython",
    "version": 3
   },
   "file_extension": ".py",
   "mimetype": "text/x-python",
   "name": "python",
   "nbconvert_exporter": "python",
   "pygments_lexer": "ipython3",
   "version": "3.6.1"
  },
  "name": ""
 },
 "nbformat": 3,
 "nbformat_minor": 0,
 "worksheets": [
  {
   "cells": [
    {
     "cell_type": "markdown",
     "metadata": {},
     "source": [
      "# Machine Learning Engineer Nanodegree\n",
      "## Supervised Learning\n",
      "## Project: Finding Donors for *CharityML*"
     ]
    },
    {
     "cell_type": "markdown",
     "metadata": {},
     "source": [
      "Welcome to the second project of the Machine Learning Engineer Nanodegree! In this notebook, some template code has already been provided for you, and it will be your job to implement the additional functionality necessary to successfully complete this project. Sections that begin with **'Implementation'** in the header indicate that the following block of code will require additional functionality which you must provide. Instructions will be provided for each section and the specifics of the implementation are marked in the code block with a `'TODO'` statement. Please be sure to read the instructions carefully!\n",
      "\n",
      "In addition to implementing code, there will be questions that you must answer which relate to the project and your implementation. Each section where you will answer a question is preceded by a **'Question X'** header. Carefully read each question and provide thorough answers in the following text boxes that begin with **'Answer:'**. Your project submission will be evaluated based on your answers to each of the questions and the implementation you provide.  \n",
      "\n",
      ">**Note:** Please specify WHICH VERSION OF PYTHON you are using when submitting this notebook. Code and Markdown cells can be executed using the **Shift + Enter** keyboard shortcut. In addition, Markdown cells can be edited by typically double-clicking the cell to enter edit mode."
     ]
    },
    {
     "cell_type": "markdown",
     "metadata": {},
     "source": [
      "## Getting Started\n",
      "\n",
      "In this project, you will employ several supervised algorithms of your choice to accurately model individuals' income using data collected from the 1994 U.S. Census. You will then choose the best candidate algorithm from preliminary results and further optimize this algorithm to best model the data. Your goal with this implementation is to construct a model that accurately predicts whether an individual makes more than $50,000. This sort of task can arise in a non-profit setting, where organizations survive on donations.  Understanding an individual's income can help a non-profit better understand how large of a donation to request, or whether or not they should reach out to begin with.  While it can be difficult to determine an individual's general income bracket directly from public sources, we can (as we will see) infer this value from other publically available features. \n",
      "\n",
      "The dataset for this project originates from the [UCI Machine Learning Repository](https://archive.ics.uci.edu/ml/datasets/Census+Income). The datset was donated by Ron Kohavi and Barry Becker, after being published in the article _\"Scaling Up the Accuracy of Naive-Bayes Classifiers: A Decision-Tree Hybrid\"_. You can find the article by Ron Kohavi [online](https://www.aaai.org/Papers/KDD/1996/KDD96-033.pdf). The data we investigate here consists of small changes to the original dataset, such as removing the `'fnlwgt'` feature and records with missing or ill-formatted entries."
     ]
    },
    {
     "cell_type": "markdown",
     "metadata": {},
     "source": [
      "----\n",
      "## Exploring the Data\n",
      "Run the code cell below to load necessary Python libraries and load the census data. Note that the last column from this dataset, `'income'`, will be our target label (whether an individual makes more than, or at most, $50,000 annually). All other columns are features about each individual in the census database."
     ]
    },
    {
     "cell_type": "code",
     "collapsed": false,
     "input": [
      "# Import libraries necessary for this project\n",
      "import numpy as np\n",
      "import pandas as pd\n",
      "from time import time\n",
      "from IPython.display import display # Allows the use of display() for DataFrames\n",
      "\n",
      "# Import supplementary visualization code visuals.py\n",
      "import visuals as vs\n",
      "\n",
      "# Pretty display for notebooks\n",
      "%matplotlib inline\n",
      "\n",
      "# Load the Census dataset\n",
      "data = pd.read_csv(\"census.csv\")\n",
      "\n",
      "# Success - Display the first record\n",
      "display(data.head(n=1))"
     ],
     "language": "python",
     "metadata": {},
     "outputs": [
      {
       "html": [
        "<div>\n",
        "<style>\n",
        "    .dataframe thead tr:only-child th {\n",
        "        text-align: right;\n",
        "    }\n",
        "\n",
        "    .dataframe thead th {\n",
        "        text-align: left;\n",
        "    }\n",
        "\n",
        "    .dataframe tbody tr th {\n",
        "        vertical-align: top;\n",
        "    }\n",
        "</style>\n",
        "<table border=\"1\" class=\"dataframe\">\n",
        "  <thead>\n",
        "    <tr style=\"text-align: right;\">\n",
        "      <th></th>\n",
        "      <th>age</th>\n",
        "      <th>workclass</th>\n",
        "      <th>education_level</th>\n",
        "      <th>education-num</th>\n",
        "      <th>marital-status</th>\n",
        "      <th>occupation</th>\n",
        "      <th>relationship</th>\n",
        "      <th>race</th>\n",
        "      <th>sex</th>\n",
        "      <th>capital-gain</th>\n",
        "      <th>capital-loss</th>\n",
        "      <th>hours-per-week</th>\n",
        "      <th>native-country</th>\n",
        "      <th>income</th>\n",
        "    </tr>\n",
        "  </thead>\n",
        "  <tbody>\n",
        "    <tr>\n",
        "      <th>0</th>\n",
        "      <td>39</td>\n",
        "      <td>State-gov</td>\n",
        "      <td>Bachelors</td>\n",
        "      <td>13.0</td>\n",
        "      <td>Never-married</td>\n",
        "      <td>Adm-clerical</td>\n",
        "      <td>Not-in-family</td>\n",
        "      <td>White</td>\n",
        "      <td>Male</td>\n",
        "      <td>2174.0</td>\n",
        "      <td>0.0</td>\n",
        "      <td>40.0</td>\n",
        "      <td>United-States</td>\n",
        "      <td>&lt;=50K</td>\n",
        "    </tr>\n",
        "  </tbody>\n",
        "</table>\n",
        "</div>"
       ],
       "metadata": {},
       "output_type": "display_data",
       "text": [
        "   age   workclass education_level  education-num  marital-status  \\\n",
        "0   39   State-gov       Bachelors           13.0   Never-married   \n",
        "\n",
        "      occupation    relationship    race    sex  capital-gain  capital-loss  \\\n",
        "0   Adm-clerical   Not-in-family   White   Male        2174.0           0.0   \n",
        "\n",
        "   hours-per-week  native-country income  \n",
        "0            40.0   United-States  <=50K  "
       ]
      }
     ],
     "prompt_number": 1
    },
    {
     "cell_type": "markdown",
     "metadata": {},
     "source": [
      "### Implementation: Data Exploration\n",
      "A cursory investigation of the dataset will determine how many individuals fit into either group, and will tell us about the percentage of these individuals making more than \\$50,000. In the code cell below, you will need to compute the following:\n",
      "- The total number of records, `'n_records'`\n",
      "- The number of individuals making more than \\$50,000 annually, `'n_greater_50k'`.\n",
      "- The number of individuals making at most \\$50,000 annually, `'n_at_most_50k'`.\n",
      "- The percentage of individuals making more than \\$50,000 annually, `'greater_percent'`.\n",
      "\n",
      "**Hint:** You may need to look at the table above to understand how the `'income'` entries are formatted. "
     ]
    },
    {
     "cell_type": "code",
     "collapsed": false,
     "input": [
      "# TODO: Total number of records\n",
      "n_records = data.shape[0]\n",
      "\n",
      "# TODO: Number of records where individual's income is more than $50,000\n",
      "n_greater_50k = sum(data.income == \">50K\")\n",
      "\n",
      "# TODO: Number of records where individual's income is at most $50,000\n",
      "n_at_most_50k = sum(data.income == \"<=50K\")\n",
      "\n",
      "# TODO: Percentage of individuals whose income is more than $50,000\n",
      "greater_percent = 100.0 * sum(data.income == \">50K\") / data.shape[0]\n",
      "\n",
      "# Print the results\n",
      "print \"Total number of records: {}\".format(n_records)\n",
      "print \"Individuals making more than $50,000: {}\".format(n_greater_50k)\n",
      "print \"Individuals making at most $50,000: {}\".format(n_at_most_50k)\n",
      "print \"Percentage of individuals making more than $50,000: {:.2f}%\".format(greater_percent)"
     ],
     "language": "python",
     "metadata": {},
     "outputs": [
      {
       "output_type": "stream",
       "stream": "stdout",
       "text": [
        "Total number of records: 45222\n",
        "Individuals making more than $50,000: 11208\n",
        "Individuals making at most $50,000: 34014\n",
        "Percentage of individuals making more than $50,000: 24.78%\n"
       ]
      }
     ],
     "prompt_number": 2
    },
    {
     "cell_type": "markdown",
     "metadata": {},
     "source": [
      "----\n",
      "## Preparing the Data\n",
      "Before data can be used as input for machine learning algorithms, it often must be cleaned, formatted, and restructured \u2014 this is typically known as **preprocessing**. Fortunately, for this dataset, there are no invalid or missing entries we must deal with, however, there are some qualities about certain features that must be adjusted. This preprocessing can help tremendously with the outcome and predictive power of nearly all learning algorithms."
     ]
    },
    {
     "cell_type": "markdown",
     "metadata": {},
     "source": [
      "### Transforming Skewed Continuous Features\n",
      "A dataset may sometimes contain at least one feature whose values tend to lie near a single number, but will also have a non-trivial number of vastly larger or smaller values than that single number.  Algorithms can be sensitive to such distributions of values and can underperform if the range is not properly normalized. With the census dataset two features fit this description: '`capital-gain'` and `'capital-loss'`. \n",
      "\n",
      "Run the code cell below to plot a histogram of these two features. Note the range of the values present and how they are distributed."
     ]
    },
    {
     "cell_type": "code",
     "collapsed": false,
     "input": [
      "# Split the data into features and target label\n",
      "income_raw = data['income']\n",
      "features_raw = data.drop('income', axis = 1)\n",
      "\n",
      "# Visualize skewed continuous features of original data\n",
      "vs.distribution(data)"
     ],
     "language": "python",
     "metadata": {},
     "outputs": [
      {
       "metadata": {},
       "output_type": "display_data",
       "png": "[encoded data removed]",
       "text": [
        "<matplotlib.figure.Figure at 0x7fd075fbe0d0>"
       ]
      }
     ],
     "prompt_number": 3
    },
    {
     "cell_type": "markdown",
     "metadata": {},
     "source": [
      "For highly-skewed feature distributions such as `'capital-gain'` and `'capital-loss'`, it is common practice to apply a <a href=\"https://en.wikipedia.org/wiki/Data_transformation_(statistics)\">logarithmic transformation</a> on the data so that the very large and very small values do not negatively affect the performance of a learning algorithm. Using a logarithmic transformation significantly reduces the range of values caused by outliers. Care must be taken when applying this transformation however: The logarithm of `0` is undefined, so we must translate the values by a small amount above `0` to apply the logarithm successfully.\n",
      "\n",
      "Run the code cell below to perform a transformation on the data and visualize the results. Again, note the range of values and how they are distributed. "
     ]
    },
    {
     "cell_type": "code",
     "collapsed": false,
     "input": [
      "# Log-transform the skewed features\n",
      "skewed = ['capital-gain', 'capital-loss']\n",
      "features_raw[skewed] = data[skewed].apply(lambda x: np.log(x + 1))\n",
      "\n",
      "# Visualize the new log distributions\n",
      "vs.distribution(features_raw, transformed = True)"
     ],
     "language": "python",
     "metadata": {},
     "outputs": [
      {
       "metadata": {},
       "output_type": "display_data",
       "png": "[encoded data removed]",
       "text": [
        "<matplotlib.figure.Figure at 0x7fd0627cfd90>"
       ]
      }
     ],
     "prompt_number": 4
    },
    {
     "cell_type": "markdown",
     "metadata": {},
     "source": [
      "### Normalizing Numerical Features\n",
      "In addition to performing transformations on features that are highly skewed, it is often good practice to perform some type of scaling on numerical features. Applying a scaling to the data does not change the shape of each feature's distribution (such as `'capital-gain'` or `'capital-loss'` above); however, normalization ensures that each feature is treated equally when applying supervised learners. Note that once scaling is applied, observing the data in its raw form will no longer have the same original meaning, as exampled below.\n",
      "\n",
      "Run the code cell below to normalize each numerical feature. We will use [`sklearn.preprocessing.MinMaxScaler`](http://scikit-learn.org/stable/modules/generated/sklearn.preprocessing.MinMaxScaler.html) for this."
     ]
    },
    {
     "cell_type": "code",
     "collapsed": false,
     "input": [
      "# Import sklearn.preprocessing.StandardScaler\n",
      "from sklearn.preprocessing import MinMaxScaler\n",
      "\n",
      "# Initialize a scaler, then apply it to the features\n",
      "scaler = MinMaxScaler()\n",
      "numerical = ['age', 'education-num', 'capital-gain', 'capital-loss', 'hours-per-week']\n",
      "#categorical = ['workclass', 'education_level','marital-status', 'occupation', 'relationship', 'race', 'sex','native-country']\n",
      "features_raw[numerical] = scaler.fit_transform(data[numerical])\n",
      "\n",
      "# Show an example of a record with scaling applied\n",
      "display(features_raw.head(n = 1))"
     ],
     "language": "python",
     "metadata": {},
     "outputs": [
      {
       "html": [
        "<div>\n",
        "<table border=\"1\" class=\"dataframe\">\n",
        "  <thead>\n",
        "    <tr style=\"text-align: right;\">\n",
        "      <th></th>\n",
        "      <th>age</th>\n",
        "      <th>workclass</th>\n",
        "      <th>education_level</th>\n",
        "      <th>education-num</th>\n",
        "      <th>marital-status</th>\n",
        "      <th>occupation</th>\n",
        "      <th>relationship</th>\n",
        "      <th>race</th>\n",
        "      <th>sex</th>\n",
        "      <th>capital-gain</th>\n",
        "      <th>capital-loss</th>\n",
        "      <th>hours-per-week</th>\n",
        "      <th>native-country</th>\n",
        "    </tr>\n",
        "  </thead>\n",
        "  <tbody>\n",
        "    <tr>\n",
        "      <th>0</th>\n",
        "      <td>0.30137</td>\n",
        "      <td>State-gov</td>\n",
        "      <td>Bachelors</td>\n",
        "      <td>0.8</td>\n",
        "      <td>Never-married</td>\n",
        "      <td>Adm-clerical</td>\n",
        "      <td>Not-in-family</td>\n",
        "      <td>White</td>\n",
        "      <td>Male</td>\n",
        "      <td>0.02174</td>\n",
        "      <td>0.0</td>\n",
        "      <td>0.397959</td>\n",
        "      <td>United-States</td>\n",
        "    </tr>\n",
        "  </tbody>\n",
        "</table>\n",
        "</div>"
       ],
       "metadata": {},
       "output_type": "display_data",
       "text": [
        "       age   workclass education_level  education-num  marital-status  \\\n",
        "0  0.30137   State-gov       Bachelors            0.8   Never-married   \n",
        "\n",
        "      occupation    relationship    race    sex  capital-gain  capital-loss  \\\n",
        "0   Adm-clerical   Not-in-family   White   Male       0.02174           0.0   \n",
        "\n",
        "   hours-per-week  native-country  \n",
        "0        0.397959   United-States  "
       ]
      }
     ],
     "prompt_number": 5
    },
    {
     "cell_type": "markdown",
     "metadata": {},
     "source": [
      "### Implementation: Data Preprocessing\n",
      "\n",
      "From the table in **Exploring the Data** above, we can see there are several features for each record that are non-numeric. Typically, learning algorithms expect input to be numeric, which requires that non-numeric features (called *categorical variables*) be converted. One popular way to convert categorical variables is by using the **one-hot encoding** scheme. One-hot encoding creates a _\"dummy\"_ variable for each possible category of each non-numeric feature. For example, assume `someFeature` has three possible entries: `A`, `B`, or `C`. We then encode this feature into `someFeature_A`, `someFeature_B` and `someFeature_C`.\n",
      "\n",
      "|   | someFeature |                    | someFeature_A | someFeature_B | someFeature_C |\n",
      "| :-: | :-: |                            | :-: | :-: | :-: |\n",
      "| 0 |  B  |  | 0 | 1 | 0 |\n",
      "| 1 |  C  | ----> one-hot encode ----> | 0 | 0 | 1 |\n",
      "| 2 |  A  |  | 1 | 0 | 0 |\n",
      "\n",
      "Additionally, as with the non-numeric features, we need to convert the non-numeric target label, `'income'` to numerical values for the learning algorithm to work. Since there are only two possible categories for this label (\"<=50K\" and \">50K\"), we can avoid using one-hot encoding and simply encode these two categories as `0` and `1`, respectively. In code cell below, you will need to implement the following:\n",
      " - Use [`pandas.get_dummies()`](http://pandas.pydata.org/pandas-docs/stable/generated/pandas.get_dummies.html?highlight=get_dummies#pandas.get_dummies) to perform one-hot encoding on the `'features_raw'` data.\n",
      " - Convert the target label `'income_raw'` to numerical entries.\n",
      "   - Set records with \"<=50K\" to `0` and records with \">50K\" to `1`."
     ]
    },
    {
     "cell_type": "code",
     "collapsed": false,
     "input": [
      "# TODO: One-hot encode the 'features_raw' data using pandas.get_dummies()\n",
      "features = pd.get_dummies(features_raw, drop_first=True)\n",
      "#features_array = features.values\n",
      "\n",
      "# TODO: Encode the 'income_raw' data to numerical values\n",
      "from sklearn.preprocessing import LabelEncoder\n",
      "le = LabelEncoder()\n",
      "income_array = le.fit_transform(income_raw)\n",
      "\n",
      "# Print the number of features after one-hot encoding\n",
      "encoded = list(features.columns)\n",
      "print \"{} total features after one-hot encoding.\".format(len(encoded))\n",
      "\n",
      "# Uncomment the following line to see the encoded feature names\n",
      "print encoded"
     ],
     "language": "python",
     "metadata": {
      "scrolled": true
     },
     "outputs": [
      {
       "output_type": "stream",
       "stream": "stdout",
       "text": [
        "95 total features after one-hot encoding.\n",
        "['age', 'education-num', 'capital-gain', 'capital-loss', 'hours-per-week', 'workclass_ Local-gov', 'workclass_ Private', 'workclass_ Self-emp-inc', 'workclass_ Self-emp-not-inc', 'workclass_ State-gov', 'workclass_ Without-pay', 'education_level_ 11th', 'education_level_ 12th', 'education_level_ 1st-4th', 'education_level_ 5th-6th', 'education_level_ 7th-8th', 'education_level_ 9th', 'education_level_ Assoc-acdm', 'education_level_ Assoc-voc', 'education_level_ Bachelors', 'education_level_ Doctorate', 'education_level_ HS-grad', 'education_level_ Masters', 'education_level_ Preschool', 'education_level_ Prof-school', 'education_level_ Some-college', 'marital-status_ Married-AF-spouse', 'marital-status_ Married-civ-spouse', 'marital-status_ Married-spouse-absent', 'marital-status_ Never-married', 'marital-status_ Separated', 'marital-status_ Widowed', 'occupation_ Armed-Forces', 'occupation_ Craft-repair', 'occupation_ Exec-managerial', 'occupation_ Farming-fishing', 'occupation_ Handlers-cleaners', 'occupation_ Machine-op-inspct', 'occupation_ Other-service', 'occupation_ Priv-house-serv', 'occupation_ Prof-specialty', 'occupation_ Protective-serv', 'occupation_ Sales', 'occupation_ Tech-support', 'occupation_ Transport-moving', 'relationship_ Not-in-family', 'relationship_ Other-relative', 'relationship_ Own-child', 'relationship_ Unmarried', 'relationship_ Wife', 'race_ Asian-Pac-Islander', 'race_ Black', 'race_ Other', 'race_ White', 'sex_ Male', 'native-country_ Canada', 'native-country_ China', 'native-country_ Columbia', 'native-country_ Cuba', 'native-country_ Dominican-Republic', 'native-country_ Ecuador', 'native-country_ El-Salvador', 'native-country_ England', 'native-country_ France', 'native-country_ Germany', 'native-country_ Greece', 'native-country_ Guatemala', 'native-country_ Haiti', 'native-country_ Holand-Netherlands', 'native-country_ Honduras', 'native-country_ Hong', 'native-country_ Hungary', 'native-country_ India', 'native-country_ Iran', 'native-country_ Ireland', 'native-country_ Italy', 'native-country_ Jamaica', 'native-country_ Japan', 'native-country_ Laos', 'native-country_ Mexico', 'native-country_ Nicaragua', 'native-country_ Outlying-US(Guam-USVI-etc)', 'native-country_ Peru', 'native-country_ Philippines', 'native-country_ Poland', 'native-country_ Portugal', 'native-country_ Puerto-Rico', 'native-country_ Scotland', 'native-country_ South', 'native-country_ Taiwan', 'native-country_ Thailand', 'native-country_ Trinadad&Tobago', 'native-country_ United-States', 'native-country_ Vietnam', 'native-country_ Yugoslavia']\n"
       ]
      }
     ],
     "prompt_number": 6
    },
    {
     "cell_type": "markdown",
     "metadata": {},
     "source": [
      "### Shuffle and Split Data\n",
      "Now all _categorical variables_ have been converted into numerical features, and all numerical features have been normalized. As always, we will now split the data (both features and their labels) into training and test sets. 80% of the data will be used for training and 20% for testing.\n",
      "\n",
      "Run the code cell below to perform this split."
     ]
    },
    {
     "cell_type": "code",
     "collapsed": false,
     "input": [
      "# Import train_test_split\n",
      "from sklearn.model_selection import train_test_split\n",
      "\n",
      "# Split the 'features' and 'income' data into training and testing sets\n",
      "X_train, X_test, y_train, y_test = train_test_split(features, income_array, test_size = 0.2, random_state = 0)\n",
      "\n",
      "# Show the results of the split\n",
      "print \"Training set has {} samples.\".format(X_train.shape[0])\n",
      "print \"Testing set has {} samples.\".format(X_test.shape[0])"
     ],
     "language": "python",
     "metadata": {},
     "outputs": [
      {
       "output_type": "stream",
       "stream": "stdout",
       "text": [
        "Training set has 36177 samples.\n",
        "Testing set has 9045 samples.\n"
       ]
      }
     ],
     "prompt_number": 30
    },
    {
     "cell_type": "markdown",
     "metadata": {},
     "source": [
      "----\n",
      "## Evaluating Model Performance\n",
      "In this section, we will investigate four different algorithms, and determine which is best at modeling the data. Three of these algorithms will be supervised learners of your choice, and the fourth algorithm is known as a *naive predictor*."
     ]
    },
    {
     "cell_type": "markdown",
     "metadata": {},
     "source": [
      "### Metrics and the Naive Predictor\n",
      "*CharityML*, equipped with their research, knows individuals that make more than \\$50,000 are most likely to donate to their charity. Because of this, *CharityML* is particularly interested in predicting who makes more than \\$50,000 accurately. It would seem that using **accuracy** as a metric for evaluating a particular model's performace would be appropriate. Additionally, identifying someone that *does not* make more than \\$50,000 as someone who does would be detrimental to *CharityML*, since they are looking to find individuals willing to donate. Therefore, a model's ability to precisely predict those that make more than \\$50,000 is *more important* than the model's ability to **recall** those individuals. We can use **F-beta score** as a metric that considers both precision and recall:\n",
      "\n",
      "$$ F_{\\beta} = (1 + \\beta^2) \\cdot \\frac{precision \\cdot recall}{\\left( \\beta^2 \\cdot precision \\right) + recall} $$\n",
      "\n",
      "In particular, when $\\beta = 0.5$, more emphasis is placed on precision. This is called the **F$_{0.5}$ score** (or F-score for simplicity).\n",
      "\n",
      "Looking at the distribution of classes (those who make at most \\$50,000, and those who make more), it's clear most individuals do not make more than \\$50,000. This can greatly affect **accuracy**, since we could simply say *\"this person does not make more than \\$50,000\"* and generally be right, without ever looking at the data! Making such a statement would be called **naive**, since we have not considered any information to substantiate the claim. It is always important to consider the *naive prediction* for your data, to help establish a benchmark for whether a model is performing well. That been said, using that prediction would be pointless: If we predicted all people made less than \\$50,000, *CharityML* would identify no one as donors. "
     ]
    },
    {
     "cell_type": "markdown",
     "metadata": {},
     "source": [
      "### Question 1 - Naive Predictor Performace\n",
      "*If we chose a model that always predicted an individual made more than \\$50,000, what would that model's accuracy and F-score be on this dataset?*  \n",
      "**Note:** You must use the code cell below and assign your results to `'accuracy'` and `'fscore'` to be used later."
     ]
    },
    {
     "cell_type": "code",
     "collapsed": false,
     "input": [
      "# TODO: Calculate accuracy\n",
      "accuracy = 1.0 * n_greater_50k / n_records\n",
      "recall = 1.0\n",
      "precision = 1.0 * n_greater_50k / n_records\n",
      "\n",
      "# TODO: Calculate F-score using the formula above for beta = 0.5\n",
      "fscore = (1+0.5**2) * (precision * recall) / ((0.5**2 * precision) + recall)\n",
      "\n",
      "# Print the results \n",
      "print \"Naive Predictor: [Accuracy score: {:.4f}, F-score: {:.4f}]\".format(accuracy, fscore)"
     ],
     "language": "python",
     "metadata": {},
     "outputs": [
      {
       "output_type": "stream",
       "stream": "stdout",
       "text": [
        "Naive Predictor: [Accuracy score: 0.2478, F-score: 0.2917]\n"
       ]
      }
     ],
     "prompt_number": 8
    },
    {
     "cell_type": "markdown",
     "metadata": {},
     "source": [
      "###  Supervised Learning Models\n",
      "**The following supervised learning models are currently available in** [`scikit-learn`](http://scikit-learn.org/stable/supervised_learning.html) **that you may choose from:**\n",
      "- Gaussian Naive Bayes (GaussianNB)\n",
      "- Decision Trees\n",
      "- Ensemble Methods (Bagging, AdaBoost, Random Forest, Gradient Boosting)\n",
      "- K-Nearest Neighbors (KNeighbors)\n",
      "- Stochastic Gradient Descent Classifier (SGDC)\n",
      "- Support Vector Machines (SVM)\n",
      "- Logistic Regression"
     ]
    },
    {
     "cell_type": "markdown",
     "metadata": {},
     "source": [
      "### Question 2 - Model Application\n",
      "List three of the supervised learning models above that are appropriate for this problem that you will test on the census data. For each model chosen\n",
      "- *Describe one real-world application in industry where the model can be applied.* (You may need to do research for this \u2014 give references!)\n",
      "- *What are the strengths of the model; when does it perform well?*\n",
      "- *What are the weaknesses of the model; when does it perform poorly?*\n",
      "- *What makes this model a good candidate for the problem, given what you know about the data?*"
     ]
    },
    {
     "cell_type": "markdown",
     "metadata": {},
     "source": [
      "**Answer: **\n",
      "\n",
      "I've decided to use the following three machine learning models for this task:\n",
      "\n",
      "**Gaussian Naive Bayes classifier**\n",
      "\n",
      "NB classifiers are used extensively in text classification tasks, such as e-mail spam classification. They are also used in digital marketing, in trying to predict the user's propensity to click on a particular web site link, given his / her prior browsing histrory.  \n",
      "\n",
      "NB classifiers assume the independence of values across feautres, which makes the computation more efficient and faster. This assumption of independence reduces the \"curse of dimensionality\", where the number of observations required to train a model increases exponentially with an increase in the number of features. Another advantage of NB is that it can be trained incrementally, without having to retrain the model on the entire data set. On the flipside, the disadvantage of NB is that it can't learn interactions between features, which in some cases may be required for better performance. \n",
      "\n",
      "I chose NB as a candidate model primarily for its computational efficiency. As the data set is relatively large, with c.45K observations and 95 features (after one-hot encoding), I was curious to see if NB could approximate the prediction performance of other, more complex and computationally costly models. \n",
      "\n",
      "\n",
      "**K-Nearest Neighbors classifier**\n",
      "\n",
      "According to the [scikit-learn website](http://scikit-learn.org/stable/modules/neighbors.html), K Nearest Neighbors has been applied successfully in a large number of classification and regression problems, including handwritten digits or satellite image scenes.\n",
      "\n",
      "KNN is a non-parametric model and can be very effective when decision boundaries are very irregular. KNN becomes computationally expensive when the number of neighbors increases, however, once the model is trained, additional observations can be simply incorporated in the model without the need to retrain the model.  \n",
      "\n",
      "I decided to evaluate KNN as a candidate, as it's a well-known, proven and easily understandable classification model and if we want to add new data (e.g. later period census data) to the existing data set, we can avoid retraining the entire model and just incorporate the new data. \n",
      "\n",
      "**Decision Tree classifier**\n",
      "\n",
      "Decision trees are widely used in many classification and regression settings. For example, decision tree classifiers are sometimes used in making marketing and customer related decisions, e.g. identifying potential customers who are likely to purhcase a certain product, or identifying existing customers who are likley to leave (customer churn prediction). \n",
      "\n",
      "Decision trees are conceptually easy to comprehend and communicate to others, as they can be presented a set of rules - it is possible to arrive at the final leaf (category or a value) by following a clear path of prior steps (nodes). Also, decision trees are relatively computationally efficient on large data sets. On the downside, decision trees tend to be high variance models, i.e. the model can vary singificantly with somewhat minor changes in the data set. \n",
      "\n",
      "I chose Decision Tree Classifier as a candidate model, as it works well with mixed continuous and categorical features (which is the case in the present case) and the data set is quite large, which is well fit for decision tree's computational efficiency. "
     ]
    },
    {
     "cell_type": "markdown",
     "metadata": {},
     "source": [
      "### Implementation - Creating a Training and Predicting Pipeline\n",
      "To properly evaluate the performance of each model you've chosen, it's important that you create a training and predicting pipeline that allows you to quickly and effectively train models using various sizes of training data and perform predictions on the testing data. Your implementation here will be used in the following section.\n",
      "In the code block below, you will need to implement the following:\n",
      " - Import `fbeta_score` and `accuracy_score` from [`sklearn.metrics`](http://scikit-learn.org/stable/modules/classes.html#sklearn-metrics-metrics).\n",
      " - Fit the learner to the sampled training data and record the training time.\n",
      " - Perform predictions on the test data `X_test`, and also on the first 300 training points `X_train[:300]`.\n",
      "   - Record the total prediction time.\n",
      " - Calculate the accuracy score for both the training subset and testing set.\n",
      " - Calculate the F-score for both the training subset and testing set.\n",
      "   - Make sure that you set the `beta` parameter!"
     ]
    },
    {
     "cell_type": "code",
     "collapsed": true,
     "input": [
      "# TODO: Import two metrics from sklearn - fbeta_score and accuracy_score\n",
      "\n",
      "from sklearn.metrics import fbeta_score, accuracy_score\n",
      "\n",
      "def train_predict(learner, sample_size, X_train, y_train, X_test, y_test): \n",
      "    '''\n",
      "    inputs:\n",
      "       - learner: the learning algorithm to be trained and predicted on\n",
      "       - sample_size: the size of samples (number) to be drawn from training set\n",
      "       - X_train: features training set\n",
      "       - y_train: income training set\n",
      "       - X_test: features testing set\n",
      "       - y_test: income testing set\n",
      "    '''\n",
      "    \n",
      "    results = {}\n",
      "    \n",
      "    # TODO: Fit the learner to the training data using slicing with 'sample_size'\n",
      "    start = time() # Get start time\n",
      "    learner.fit(X_train[:sample_size], y_train[:sample_size])\n",
      "    #learner = None\n",
      "    end = time() # Get end time\n",
      "    \n",
      "    # TODO: Calculate the training time\n",
      "    results['train_time'] = end - start \n",
      "        \n",
      "    # TODO: Get the predictions on the test set,\n",
      "    #       then get predictions on the first 300 training samples\n",
      "    start = time() # Get start time\n",
      "    predictions_test = learner.predict(X_test)\n",
      "    predictions_train = learner.predict(X_train[:300])\n",
      "    end = time() # Get end time\n",
      "    \n",
      "    # TODO: Calculate the total prediction time\n",
      "    results['pred_time'] = end - start\n",
      "            \n",
      "    # TODO: Compute accuracy on the first 300 training samples\n",
      "    results['acc_train'] = accuracy_score(y_train[:300], predictions_train)\n",
      "        \n",
      "    # TODO: Compute accuracy on test set\n",
      "    results['acc_test'] = accuracy_score(y_test, predictions_test)\n",
      "    \n",
      "    # TODO: Compute F-score on the the first 300 training samples\n",
      "    results['f_train'] = fbeta_score(y_train[:300], predictions_train, 0.5)\n",
      "        \n",
      "    # TODO: Compute F-score on the test set\n",
      "    results['f_test'] = fbeta_score(y_test, predictions_test, 0.5)\n",
      "       \n",
      "    # Success\n",
      "    print \"{} trained on {} samples.\".format(learner.__class__.__name__, sample_size)\n",
      "        \n",
      "    # Return the results\n",
      "    return results"
     ],
     "language": "python",
     "metadata": {},
     "outputs": [],
     "prompt_number": 41
    },
    {
     "cell_type": "markdown",
     "metadata": {},
     "source": [
      "### Implementation: Initial Model Evaluation\n",
      "In the code cell, you will need to implement the following:\n",
      "- Import the three supervised learning models you've discussed in the previous section.\n",
      "- Initialize the three models and store them in `'clf_A'`, `'clf_B'`, and `'clf_C'`.\n",
      "  - Use a `'random_state'` for each model you use, if provided.\n",
      "  - **Note:** Use the default settings for each model \u2014 you will tune one specific model in a later section.\n",
      "- Calculate the number of records equal to 1%, 10%, and 100% of the training data.\n",
      "  - Store those values in `'samples_1'`, `'samples_10'`, and `'samples_100'` respectively.\n",
      "\n",
      "**Note:** Depending on which algorithms you chose, the following implementation may take some time to run!"
     ]
    },
    {
     "cell_type": "code",
     "collapsed": false,
     "input": [
      "# TODO: Import the three supervised learning models from sklearn\n",
      "from sklearn.naive_bayes import GaussianNB\n",
      "from sklearn.neighbors import KNeighborsClassifier\n",
      "from sklearn.tree import DecisionTreeClassifier\n",
      "\n",
      "# TODO: Initialize the three models\n",
      "clf_A = GaussianNB()\n",
      "clf_B = KNeighborsClassifier()\n",
      "clf_C = DecisionTreeClassifier(random_state=21)\n",
      "\n",
      "# TODO: Calculate the number of samples for 1%, 10%, and 100% of the training data\n",
      "samples_1 = int(0.01 * len(X_train))\n",
      "samples_10 = int(0.10 * len(X_train))\n",
      "samples_100 = len(X_train)\n",
      "\n",
      "# Collect results on the learners\n",
      "results = {}\n",
      "for clf in [clf_A, clf_B, clf_C]:\n",
      "    clf_name = clf.__class__.__name__\n",
      "    results[clf_name] = {}\n",
      "    for i, samples in enumerate([samples_1, samples_10, samples_100]):\n",
      "        results[clf_name][i] = \\\n",
      "        train_predict(clf, samples, X_train, y_train, X_test, y_test)\n",
      "\n",
      "# Run metrics visualization for the three supervised learning models chosen\n",
      "vs.evaluate(results, accuracy, fscore)"
     ],
     "language": "python",
     "metadata": {},
     "outputs": [
      {
       "output_type": "stream",
       "stream": "stdout",
       "text": [
        "GaussianNB trained on 361 samples.\n",
        "GaussianNB trained on 3617 samples.\n",
        "GaussianNB trained on 36177 samples.\n",
        "KNeighborsClassifier trained on 361 samples.\n",
        "KNeighborsClassifier trained on 3617 samples.\n",
        "KNeighborsClassifier trained on 36177 samples.\n",
        "DecisionTreeClassifier trained on 361 samples.\n",
        "DecisionTreeClassifier trained on 3617 samples.\n",
        "DecisionTreeClassifier trained on 36177 samples.\n"
       ]
      },
      {
       "metadata": {},
       "output_type": "display_data",
       "png": "[encoded data removed]",
       "text": [
        "<matplotlib.figure.Figure at 0x7fd04f7fa310>"
       ]
      }
     ],
     "prompt_number": 42
    },
    {
     "cell_type": "markdown",
     "metadata": {},
     "source": [
      "----\n",
      "## Improving Results\n",
      "In this final section, you will choose from the three supervised learning models the *best* model to use on the student data. You will then perform a grid search optimization for the model over the entire training set (`X_train` and `y_train`) by tuning at least one parameter to improve upon the untuned model's F-score. "
     ]
    },
    {
     "cell_type": "markdown",
     "metadata": {},
     "source": [
      "### Question 3 - Choosing the Best Model\n",
      "*Based on the evaluation you performed earlier, in one to two paragraphs, explain to *CharityML* which of the three models you believe to be most appropriate for the task of identifying individuals that make more than \\$50,000.*  \n",
      "**Hint:** Your answer should include discussion of the metrics, prediction/training time, and the algorithm's suitability for the data."
     ]
    },
    {
     "cell_type": "markdown",
     "metadata": {},
     "source": [
      "**Answer: **\n",
      "\n",
      "First, it's clear from the accuracy and F-score metrics that Gaussian NB grossly underperforms the other two models. Therefore, despite its computational efficiency (shortest training time), we should reject it. Thus, we have to choose between Decision Tree and KNN. This is a difficult choice. We can see that KNN takes immensely more time (especially on prediction) than DT, while its performance (accuracy and F-score) on the test set is only slightly better (practically on par). These two facts on their own would clearly lead to the choice of DT over KNN. However, there is one additional important fact - DT's accuracy and F-scores on the training set are significantly higher than those on the test set. I believe this is a severe problem, as it is a clear sign of overfitting. Given this fact, I recommend the use of KNN, despite its relative computational inefficiency. \n",
      "\n",
      "Interesetingly, the performance of DT and KNN on test set does not change (increase) significantly when we use 100% as opposed to only 10% of the training data."
     ]
    },
    {
     "cell_type": "markdown",
     "metadata": {},
     "source": [
      "### Question 4 - Describing the Model in Layman's Terms\n",
      "*In one to two paragraphs, explain to *CharityML*, in layman's terms, how the final model chosen is supposed to work. Be sure that you are describing the major qualities of the model, such as how the model is trained and how the model makes a prediction. Avoid using advanced mathematical or technical jargon, such as describing equations or discussing the algorithm implementation.*"
     ]
    },
    {
     "cell_type": "markdown",
     "metadata": {},
     "source": [
      "**Answer: ** \n",
      "\n",
      "This KNN model works somewhat like a lookup function. When you feed to it an instance with values for each of the features that the model is trained on (e.g. a new individual with the respective demographic and socioeconomic features), the model finds 100 \"nearest neighbors\" of this instance. The degree of being near, or, proximity is determined in terms of a measure of distance calculated along each of the features and aggregated or averaged. Once the 100 nearest neighbors have been found, the model looks at the class labels of these neighbors. Then the majority class (>50K i.e. potential donor or <=50K) is given as the predicted label of the unlabelled instance fed to the model. "
     ]
    },
    {
     "cell_type": "markdown",
     "metadata": {},
     "source": [
      "### Implementation: Model Tuning\n",
      "Fine tune the chosen model. Use grid search (`GridSearchCV`) with at least one important parameter tuned with at least 3 different values. You will need to use the entire training set for this. In the code cell below, you will need to implement the following:\n",
      "- Import [`sklearn.grid_search.GridSearchCV`](http://scikit-learn.org/0.17/modules/generated/sklearn.grid_search.GridSearchCV.html) and [`sklearn.metrics.make_scorer`](http://scikit-learn.org/stable/modules/generated/sklearn.metrics.make_scorer.html).\n",
      "- Initialize the classifier you've chosen and store it in `clf`.\n",
      " - Set a `random_state` if one is available to the same state you set before.\n",
      "- Create a dictionary of parameters you wish to tune for the chosen model.\n",
      " - Example: `parameters = {'parameter' : [list of values]}`.\n",
      " - **Note:** Avoid tuning the `max_features` parameter of your learner if that parameter is available!\n",
      "- Use `make_scorer` to create an `fbeta_score` scoring object (with $\\beta = 0.5$).\n",
      "- Perform grid search on the classifier `clf` using the `'scorer'`, and store it in `grid_obj`.\n",
      "- Fit the grid search object to the training data (`X_train`, `y_train`), and store it in `grid_fit`.\n",
      "\n",
      "**Note:** Depending on the algorithm chosen and the parameter list, the following implementation may take some time to run!"
     ]
    },
    {
     "cell_type": "code",
     "collapsed": false,
     "input": [
      "# TODO: Import 'GridSearchCV', 'make_scorer', and any other necessary libraries\n",
      "from sklearn.model_selection import GridSearchCV\n",
      "from sklearn.metrics import make_scorer\n",
      "\n",
      "\n",
      "# TODO: Initialize the classifier\n",
      "clf = KNeighborsClassifier()\n",
      "\n",
      "# TODO: Create the parameters list you wish to tune\n",
      "parameters = { \"n_neighbors\" : range(50, 150, 25) }\n",
      "\n",
      "# TODO: Make an fbeta_score scoring object\n",
      "scorer = make_scorer(fbeta_score, beta=0.5)\n",
      "\n",
      "# TODO: Perform grid search on the classifier using 'scorer' as the scoring method\n",
      "grid_obj = GridSearchCV(clf, param_grid = parameters, scoring = scorer)\n",
      "\n",
      "# TODO: Fit the grid search object to the training data and find the optimal parameters\n",
      "start = time()\n",
      "grid_fit = grid_obj.fit(X_train, y_train)\n",
      "\n",
      "\n",
      "# Get the estimator\n",
      "best_clf = grid_fit.best_estimator_\n",
      "\n",
      "# Make predictions using the unoptimized and model\n",
      "predictions = (clf.fit(X_train, y_train)).predict(X_test)\n",
      "best_predictions = best_clf.predict(X_test)\n",
      "\n",
      "# Report the before-and-afterscores\n",
      "print \"Model tuning and predictions time:\", time() - start\n",
      "print \"Unoptimized model\\n------\"\n",
      "print \"Accuracy score on testing data: {:.4f}\".format(accuracy_score(y_test, predictions))\n",
      "print \"F-score on testing data: {:.4f}\".format(fbeta_score(y_test, predictions, beta = 0.5))\n",
      "print \"\\nOptimized Model\\n------\"\n",
      "print \"Final accuracy score on the testing data: {:.4f}\".format(accuracy_score(y_test, best_predictions))\n",
      "print \"Final F-score on the testing data: {:.4f}\".format(fbeta_score(y_test, best_predictions, beta = 0.5))"
     ],
     "language": "python",
     "metadata": {},
     "outputs": [
      {
       "output_type": "stream",
       "stream": "stdout",
       "text": [
        "Model tuning and predictions time: 613.285087109\n",
        "Unoptimized model\n",
        "------\n",
        "Accuracy score on testing data: 0.8187\n",
        "F-score on testing data: 0.6284\n",
        "\n",
        "Optimized Model\n",
        "------\n",
        "Final accuracy score on the testing data: 0.8292\n",
        "Final F-score on the testing data: 0.6542\n"
       ]
      }
     ],
     "prompt_number": 47
    },
    {
     "cell_type": "code",
     "collapsed": false,
     "input": [
      "grid_fit.best_params_"
     ],
     "language": "python",
     "metadata": {},
     "outputs": [
      {
       "metadata": {},
       "output_type": "pyout",
       "prompt_number": 48,
       "text": [
        "{'n_neighbors': 100}"
       ]
      }
     ],
     "prompt_number": 48
    },
    {
     "cell_type": "markdown",
     "metadata": {},
     "source": [
      "### Question 5 - Final Model Evaluation\n",
      "_What is your optimized model's accuracy and F-score on the testing data? Are these scores better or worse than the unoptimized model? How do the results from your optimized model compare to the naive predictor benchmarks you found earlier in **Question 1**?_  \n",
      "**Note:** Fill in the table below with your results, and then provide discussion in the **Answer** box."
     ]
    },
    {
     "cell_type": "markdown",
     "metadata": {},
     "source": [
      "#### Results:\n",
      "\n",
      "|     Metric     | Benchmark Predictor | Unoptimized Model | Optimized Model |\n",
      "| :------------: | :-----------------: | :---------------: | :-------------: | \n",
      "| Accuracy Score |     0.2478          |  0.8187           |  0.8292         |\n",
      "| F-score        |     0.2917          |  0.6284           |  0.6542         |\n"
     ]
    },
    {
     "cell_type": "markdown",
     "metadata": {},
     "source": [
      "**Answer: **\n",
      "\n",
      "We see that the trained model performs vastly better that the benchmark naive predictor. We also see that model optimization via hyper-parameter tuning has enabled us to pick up 1% extra accuracy and almost 3% extra F-score on the testing data. This improvement, especially, on F-score, is meaningful."
     ]
    },
    {
     "cell_type": "markdown",
     "metadata": {},
     "source": [
      "----\n",
      "## Feature Importance\n",
      "\n",
      "An important task when performing supervised learning on a dataset like the census data we study here is determining which features provide the most predictive power. By focusing on the relationship between only a few crucial features and the target label we simplify our understanding of the phenomenon, which is most always a useful thing to do. In the case of this project, that means we wish to identify a small number of features that most strongly predict whether an individual makes at most or more than \\$50,000.\n",
      "\n",
      "Choose a scikit-learn classifier (e.g., adaboost, random forests) that has a `feature_importance_` attribute, which is a function that ranks the importance of features according to the chosen classifier.  In the next python cell fit this classifier to training set and use this attribute to determine the top 5 most important features for the census dataset."
     ]
    },
    {
     "cell_type": "markdown",
     "metadata": {},
     "source": [
      "### Question 6 - Feature Relevance Observation\n",
      "When **Exploring the Data**, it was shown there are thirteen available features for each individual on record in the census data.  \n",
      "_Of these thirteen records, which five features do you believe to be most important for prediction, and in what order would you rank them and why?_"
     ]
    },
    {
     "cell_type": "markdown",
     "metadata": {},
     "source": [
      "**Answer:**\n",
      "\n",
      "Intuitively, I would predict the following features to be most important, in decreasing order of importance:\n",
      "\n",
      "* Occupation - I beleive occupation is strongly correlated with the level of earnings, e.g. a lawyer or a doctor usually earns a lot. \n",
      "* Education level - education is a strong determinant of the type of job one gets and higher education generally leads to higher earnings. \n",
      "* Workclass - it is common knowledge that on average, certain sectors pay more than others. For example, private sector on average pays more than the state sector. \n",
      "* Age - usually, people in their middle ages earn the most. \n",
      "* Capital gain - capital gain indicates that a person carries out investment activities. Usually, people who invest in stocks or other assets are well off and financially savvy, which should correlate strongly with earnings. "
     ]
    },
    {
     "cell_type": "markdown",
     "metadata": {},
     "source": [
      "### Implementation - Extracting Feature Importance\n",
      "Choose a `scikit-learn` supervised learning algorithm that has a `feature_importance_` attribute availble for it. This attribute is a function that ranks the importance of each feature when making predictions based on the chosen algorithm.\n",
      "\n",
      "In the code cell below, you will need to implement the following:\n",
      " - Import a supervised learning model from sklearn if it is different from the three used earlier.\n",
      " - Train the supervised model on the entire training set.\n",
      " - Extract the feature importances using `'.feature_importances_'`."
     ]
    },
    {
     "cell_type": "code",
     "collapsed": false,
     "input": [
      "# TODO: Import a supervised learning model that has 'feature_importances_'\n",
      "from sklearn.ensemble import RandomForestClassifier\n",
      "\n",
      "# TODO: Train the supervised model on the training set \n",
      "model = RandomForestClassifier()\n",
      "model.fit(X_train, y_train)\n",
      "\n",
      "# TODO: Extract the feature importances\n",
      "importances = model.feature_importances_\n",
      "\n",
      "# Plot\n",
      "vs.feature_plot(importances, X_train, y_train)"
     ],
     "language": "python",
     "metadata": {},
     "outputs": [
      {
       "metadata": {},
       "output_type": "display_data",
       "png": "[encoded data removed]",
       "text": [
        "<matplotlib.figure.Figure at 0x7fd04f76d490>"
       ]
      }
     ],
     "prompt_number": 46
    },
    {
     "cell_type": "markdown",
     "metadata": {},
     "source": [
      "### Question 7 - Extracting Feature Importance\n",
      "\n",
      "Observe the visualization created above which displays the five most relevant features for predicting if an individual makes at most or above \\$50,000.  \n",
      "_How do these five features compare to the five features you discussed in **Question 6**? If you were close to the same answer, how does this visualization confirm your thoughts? If you were not close, why do you think these features are more relevant?_"
     ]
    },
    {
     "cell_type": "markdown",
     "metadata": {},
     "source": [
      "**Answer:**\n",
      "\n",
      "It seems I had guessed three out five features correctly (although not in the same rank order) - Age, Education and Capital Gain. I had not thought hours-per-week and marital status would be such strong determinants of earnings. On second thoughts, hours-per-week does make good sense, however, I still find it difficult to interpret why marital status has such a strong influence. I decided to investigate this further by looking at the proportions of high earners by different marital status categories:  "
     ]
    },
    {
     "cell_type": "code",
     "collapsed": false,
     "input": [
      "def high_earners_prop(series):\n",
      "    return 1.0 * sum(series == \">50K\") / len(series)\n",
      "\n",
      "data.groupby(\"marital-status\")[\"income\"].agg(high_earners_prop)"
     ],
     "language": "python",
     "metadata": {},
     "outputs": [
      {
       "metadata": {},
       "output_type": "pyout",
       "prompt_number": 7,
       "text": [
        "marital-status\n",
        " Divorced                 0.104018\n",
        " Married-AF-spouse        0.437500\n",
        " Married-civ-spouse       0.454239\n",
        " Married-spouse-absent    0.097826\n",
        " Never-married            0.048020\n",
        " Separated                0.070163\n",
        " Widowed                  0.094753\n",
        "Name: income, dtype: float64"
       ]
      }
     ],
     "prompt_number": 7
    },
    {
     "cell_type": "markdown",
     "metadata": {},
     "source": [
      "It is striking how much higher the proportion of high earners is in the Married vs. Separated, Divorced or Widowed categories. Does being married provide some kind of stability which increases the person's productivity and earning capacity or perhaps there is a reverse causality where people who are high earners can afford more than others to get and remain married? "
     ]
    },
    {
     "cell_type": "markdown",
     "metadata": {},
     "source": [
      "### Feature Selection\n",
      "How does a model perform if we only use a subset of all the available features in the data? With less features required to train, the expectation is that training and prediction time is much lower \u2014 at the cost of performance metrics. From the visualization above, we see that the top five most important features contribute more than half of the importance of **all** features present in the data. This hints that we can attempt to *reduce the feature space* and simplify the information required for the model to learn. The code cell below will use the same optimized model you found earlier, and train it on the same training set *with only the top five important features*. "
     ]
    },
    {
     "cell_type": "code",
     "collapsed": false,
     "input": [
      "# Import functionality for cloning a model\n",
      "from sklearn.base import clone\n",
      "\n",
      "# Reduce the feature space\n",
      "X_train_reduced = X_train[X_train.columns.values[(np.argsort(importances)[::-1])[:5]]]\n",
      "X_test_reduced = X_test[X_test.columns.values[(np.argsort(importances)[::-1])[:5]]]\n",
      "\n",
      "# Train on the \"best\" model found from grid search earlier\n",
      "clf = (clone(best_clf)).fit(X_train_reduced, y_train)\n",
      "\n",
      "# Make new predictions\n",
      "reduced_predictions = clf.predict(X_test_reduced)\n",
      "\n",
      "# Report scores from the final model using both versions of data\n",
      "print \"Final Model trained on full data\\n------\"\n",
      "print \"Accuracy on testing data: {:.4f}\".format(accuracy_score(y_test, best_predictions))\n",
      "print \"F-score on testing data: {:.4f}\".format(fbeta_score(y_test, best_predictions, beta = 0.5))\n",
      "print \"\\nFinal Model trained on reduced data\\n------\"\n",
      "print \"Accuracy on testing data: {:.4f}\".format(accuracy_score(y_test, reduced_predictions))\n",
      "print \"F-score on testing data: {:.4f}\".format(fbeta_score(y_test, reduced_predictions, beta = 0.5))"
     ],
     "language": "python",
     "metadata": {},
     "outputs": [
      {
       "output_type": "stream",
       "stream": "stdout",
       "text": [
        "Final Model trained on full data\n",
        "------\n",
        "Accuracy on testing data: 0.8292\n",
        "F-score on testing data: 0.6542\n",
        "\n",
        "Final Model trained on reduced data\n",
        "------\n",
        "Accuracy on testing data: 0.8316\n",
        "F-score on testing data: 0.6625\n"
       ]
      }
     ],
     "prompt_number": 49
    },
    {
     "cell_type": "markdown",
     "metadata": {},
     "source": [
      "### Question 8 - Effects of Feature Selection\n",
      "*How does the final model's F-score and accuracy score on the reduced data using only five features compare to those same scores when all features are used?*  \n",
      "*If training time was a factor, would you consider using the reduced data as your training set?*"
     ]
    },
    {
     "cell_type": "markdown",
     "metadata": {},
     "source": [
      "**Answer:**\n",
      "\n",
      "By feature reduction, we have been able to pick up a further c. 1% improvement in the accuracy and F-scores, which is good. But more importantly in the case of KNN, which is computationally slow and expensive, the feature reduction has dramatically reduced the training and prediction time. Therefore, I definitely recommend using the reduced set of features. "
     ]
    },
    {
     "cell_type": "markdown",
     "metadata": {},
     "source": [
      "> **Note**: Once you have completed all of the code implementations and successfully answered each question above, you may finalize your work by exporting the iPython Notebook as an HTML document. You can do this by using the menu above and navigating to  \n",
      "**File -> Download as -> HTML (.html)**. Include the finished document along with this notebook as your submission."
     ]
    }
   ],
   "metadata": {}
  }
 ]
}